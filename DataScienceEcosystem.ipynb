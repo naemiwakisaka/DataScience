{
 "cells": [
  {
   "cell_type": "markdown",
   "id": "30818552-94e4-4f59-828b-c20d90288e92",
   "metadata": {},
   "source": [
    "# **Data Science Tools and Ecosystem**"
   ]
  },
  {
   "cell_type": "markdown",
   "id": "4c8d17e6-ca6e-4dd2-9b2e-8efd12de4cbd",
   "metadata": {},
   "source": [
    "## Author  \n",
    "*Naemi Goto Wakisaka*\n"
   ]
  },
  {
   "cell_type": "markdown",
   "id": "741c125c-4429-4e58-91e1-c5627f9ac494",
   "metadata": {},
   "source": [
    "In this notebook, we summarize commonly used tools, languages, and libraries in the data science ecosystem.\n"
   ]
  },
  {
   "cell_type": "markdown",
   "id": "0299c5fd-fcd0-497c-894a-c87a1e036ffb",
   "metadata": {},
   "source": [
    "**Objectives:**\n",
    "- List popular languages for Data Science  \n",
    "- List commonly used libraries used by Data Scientists  \n",
    "- Create and format markdown cells in a Jupyter notebook  \n",
    "- Demonstrate arithmetic operations in Python  \n",
    "- Create tables using markdown"
   ]
  },
  {
   "cell_type": "markdown",
   "id": "ca8b34cb-3255-486a-b41a-87853c9618f1",
   "metadata": {},
   "source": [
    "### Languages Used in Data Science"
   ]
  },
  {
   "cell_type": "markdown",
   "id": "2bf32525-78d8-421c-89a4-553aa1ff9def",
   "metadata": {},
   "source": [
    "Some of the popular languages that Data Scientists use are:"
   ]
  },
  {
   "cell_type": "markdown",
   "id": "2a14958c-1989-44b1-9c84-82491ead67ca",
   "metadata": {},
   "source": [
    "1. Python  \n",
    "2. R  \n",
    "3. SQL\n",
    "4. Julia\n",
    "5. Scala"
   ]
  },
  {
   "cell_type": "markdown",
   "id": "876a16c6-eb1a-4e0f-ad48-b15ae44a783b",
   "metadata": {},
   "source": [
    "### List Data Science Libraries"
   ]
  },
  {
   "cell_type": "markdown",
   "id": "bf8a1143-8dea-4249-be73-5ca69029deff",
   "metadata": {},
   "source": [
    "Some of the commonly used libraries used by Data Scientists include:"
   ]
  },
  {
   "cell_type": "markdown",
   "id": "cb243c4d-6ea6-43a0-a0d6-53d10187c38c",
   "metadata": {},
   "source": [
    "**Common Libraries:**\n",
    "\n",
    "- *Pandas*: for data manipulation\n",
    "- *NumPy*: for numerical computations\n",
    "- *Matplotlib*: for visualization"
   ]
  },
  {
   "cell_type": "markdown",
   "id": "fe939b43-14dc-4703-948a-ddc7a2bee09f",
   "metadata": {},
   "source": [
    "### Data Science tools"
   ]
  },
  {
   "cell_type": "markdown",
   "id": "d3d0ad6e-e648-401b-94f1-11da943c9609",
   "metadata": {},
   "source": [
    "|**Data Science Tools**|\n",
    "|----------------------|\n",
    "| Jupyter Notebook     |\n",
    "| RStudio         \n",
    "| Apache Zeppelin  |\n",
    "\n",
    "\n"
   ]
  },
  {
   "cell_type": "markdown",
   "id": "971ac0da-de50-4007-8859-a48285183153",
   "metadata": {},
   "source": [
    "### Below are a few examples of evaluating arithmetic expressions in Python.\n",
    "\n"
   ]
  },
  {
   "cell_type": "code",
   "execution_count": 14,
   "id": "df0819df-5ec9-4fed-a1a1-ef6af59b6a19",
   "metadata": {},
   "outputs": [
    {
     "data": {
      "text/plain": [
       "17"
      ]
     },
     "execution_count": 14,
     "metadata": {},
     "output_type": "execute_result"
    }
   ],
   "source": [
    "#  This a simple arithmetic expression to mutiply then add integers\n",
    "(3*4)+5"
   ]
  },
  {
   "cell_type": "code",
   "execution_count": 15,
   "id": "7a3f1cd5-640c-4b6a-99a1-e4720ce6585e",
   "metadata": {},
   "outputs": [
    {
     "data": {
      "text/plain": [
       "3.3333333333333335"
      ]
     },
     "execution_count": 15,
     "metadata": {},
     "output_type": "execute_result"
    }
   ],
   "source": [
    "# is a simple arithmetic expression to mutiply then add integers\n",
    "200/60"
   ]
  },
  {
   "cell_type": "code",
   "execution_count": null,
   "id": "478d80bd-0465-43b8-8c51-6c3586990ddd",
   "metadata": {},
   "outputs": [],
   "source": []
  },
  {
   "cell_type": "code",
   "execution_count": null,
   "id": "47636254-8060-4d4a-9b4a-4bc6d8baddb5",
   "metadata": {},
   "outputs": [],
   "source": []
  }
 ],
 "metadata": {
  "kernelspec": {
   "display_name": "Python [conda env:base] *",
   "language": "python",
   "name": "conda-base-py"
  },
  "language_info": {
   "codemirror_mode": {
    "name": "ipython",
    "version": 3
   },
   "file_extension": ".py",
   "mimetype": "text/x-python",
   "name": "python",
   "nbconvert_exporter": "python",
   "pygments_lexer": "ipython3",
   "version": "3.12.7"
  }
 },
 "nbformat": 4,
 "nbformat_minor": 5
}
